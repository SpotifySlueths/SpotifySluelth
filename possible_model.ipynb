{
 "nbformat": 4,
 "nbformat_minor": 0,
 "metadata": {
  "colab": {
   "name": "data_cleaning.ipynb",
   "provenance": []
  },
  "kernelspec": {
   "display_name": "Python 3",
   "language": "python",
   "name": "python3"
  },
  "language_info": {
   "codemirror_mode": {
    "name": "ipython",
    "version": 3
   },
   "file_extension": ".py",
   "mimetype": "text/x-python",
   "name": "python",
   "nbconvert_exporter": "python",
   "pygments_lexer": "ipython3",
   "version": "3.8.8"
  },
  "accelerator": "GPU"
 },
 "cells": [
  {
   "cell_type": "code",
   "metadata": {
    "id": "koOk0zyrrna0"
   },
   "source": [
    "import pandas as pd\n",
    "\n",
    "df_o = pd.read_csv('data_o.csv')"
   ],
   "execution_count": 24,
   "outputs": []
  },
  {
   "cell_type": "code",
   "metadata": {
    "id": "wOFxStRqfRd-",
    "colab": {
     "base_uri": "https://localhost:8080/",
     "height": 513
    },
    "outputId": "fec7172d-77cc-4bbc-a2b1-f343525801e3"
   },
   "source": [
    "print(df_o.shape)\n",
    "df_o.head()"
   ],
   "execution_count": 26,
   "outputs": [
    {
     "output_type": "stream",
     "text": [
      "(170653, 19)\n"
     ],
     "name": "stdout"
    },
    {
     "output_type": "execute_result",
     "data": {
      "text/html": [
       "<div>\n",
       "<style scoped>\n",
       "    .dataframe tbody tr th:only-of-type {\n",
       "        vertical-align: middle;\n",
       "    }\n",
       "\n",
       "    .dataframe tbody tr th {\n",
       "        vertical-align: top;\n",
       "    }\n",
       "\n",
       "    .dataframe thead th {\n",
       "        text-align: right;\n",
       "    }\n",
       "</style>\n",
       "<table border=\"1\" class=\"dataframe\">\n",
       "  <thead>\n",
       "    <tr style=\"text-align: right;\">\n",
       "      <th></th>\n",
       "      <th>valence</th>\n",
       "      <th>year</th>\n",
       "      <th>acousticness</th>\n",
       "      <th>artists</th>\n",
       "      <th>danceability</th>\n",
       "      <th>duration_ms</th>\n",
       "      <th>energy</th>\n",
       "      <th>explicit</th>\n",
       "      <th>id</th>\n",
       "      <th>instrumentalness</th>\n",
       "      <th>key</th>\n",
       "      <th>liveness</th>\n",
       "      <th>loudness</th>\n",
       "      <th>mode</th>\n",
       "      <th>name</th>\n",
       "      <th>popularity</th>\n",
       "      <th>release_date</th>\n",
       "      <th>speechiness</th>\n",
       "      <th>tempo</th>\n",
       "    </tr>\n",
       "  </thead>\n",
       "  <tbody>\n",
       "    <tr>\n",
       "      <th>0</th>\n",
       "      <td>0.0594</td>\n",
       "      <td>1921</td>\n",
       "      <td>0.982</td>\n",
       "      <td>['Sergei Rachmaninoff', 'James Levine', 'Berli...</td>\n",
       "      <td>0.279</td>\n",
       "      <td>831667</td>\n",
       "      <td>0.211</td>\n",
       "      <td>0</td>\n",
       "      <td>4BJqT0PrAfrxzMOxytFOIz</td>\n",
       "      <td>0.878000</td>\n",
       "      <td>10</td>\n",
       "      <td>0.665</td>\n",
       "      <td>-20.096</td>\n",
       "      <td>1</td>\n",
       "      <td>Piano Concerto No. 3 in D Minor, Op. 30: III. ...</td>\n",
       "      <td>4</td>\n",
       "      <td>1921</td>\n",
       "      <td>0.0366</td>\n",
       "      <td>80.954</td>\n",
       "    </tr>\n",
       "    <tr>\n",
       "      <th>1</th>\n",
       "      <td>0.9630</td>\n",
       "      <td>1921</td>\n",
       "      <td>0.732</td>\n",
       "      <td>['Dennis Day']</td>\n",
       "      <td>0.819</td>\n",
       "      <td>180533</td>\n",
       "      <td>0.341</td>\n",
       "      <td>0</td>\n",
       "      <td>7xPhfUan2yNtyFG0cUWkt8</td>\n",
       "      <td>0.000000</td>\n",
       "      <td>7</td>\n",
       "      <td>0.160</td>\n",
       "      <td>-12.441</td>\n",
       "      <td>1</td>\n",
       "      <td>Clancy Lowered the Boom</td>\n",
       "      <td>5</td>\n",
       "      <td>1921</td>\n",
       "      <td>0.4150</td>\n",
       "      <td>60.936</td>\n",
       "    </tr>\n",
       "    <tr>\n",
       "      <th>2</th>\n",
       "      <td>0.0394</td>\n",
       "      <td>1921</td>\n",
       "      <td>0.961</td>\n",
       "      <td>['KHP Kridhamardawa Karaton Ngayogyakarta Hadi...</td>\n",
       "      <td>0.328</td>\n",
       "      <td>500062</td>\n",
       "      <td>0.166</td>\n",
       "      <td>0</td>\n",
       "      <td>1o6I8BglA6ylDMrIELygv1</td>\n",
       "      <td>0.913000</td>\n",
       "      <td>3</td>\n",
       "      <td>0.101</td>\n",
       "      <td>-14.850</td>\n",
       "      <td>1</td>\n",
       "      <td>Gati Bali</td>\n",
       "      <td>5</td>\n",
       "      <td>1921</td>\n",
       "      <td>0.0339</td>\n",
       "      <td>110.339</td>\n",
       "    </tr>\n",
       "    <tr>\n",
       "      <th>3</th>\n",
       "      <td>0.1650</td>\n",
       "      <td>1921</td>\n",
       "      <td>0.967</td>\n",
       "      <td>['Frank Parker']</td>\n",
       "      <td>0.275</td>\n",
       "      <td>210000</td>\n",
       "      <td>0.309</td>\n",
       "      <td>0</td>\n",
       "      <td>3ftBPsC5vPBKxYSee08FDH</td>\n",
       "      <td>0.000028</td>\n",
       "      <td>5</td>\n",
       "      <td>0.381</td>\n",
       "      <td>-9.316</td>\n",
       "      <td>1</td>\n",
       "      <td>Danny Boy</td>\n",
       "      <td>3</td>\n",
       "      <td>1921</td>\n",
       "      <td>0.0354</td>\n",
       "      <td>100.109</td>\n",
       "    </tr>\n",
       "    <tr>\n",
       "      <th>4</th>\n",
       "      <td>0.2530</td>\n",
       "      <td>1921</td>\n",
       "      <td>0.957</td>\n",
       "      <td>['Phil Regan']</td>\n",
       "      <td>0.418</td>\n",
       "      <td>166693</td>\n",
       "      <td>0.193</td>\n",
       "      <td>0</td>\n",
       "      <td>4d6HGyGT8e121BsdKmw9v6</td>\n",
       "      <td>0.000002</td>\n",
       "      <td>3</td>\n",
       "      <td>0.229</td>\n",
       "      <td>-10.096</td>\n",
       "      <td>1</td>\n",
       "      <td>When Irish Eyes Are Smiling</td>\n",
       "      <td>2</td>\n",
       "      <td>1921</td>\n",
       "      <td>0.0380</td>\n",
       "      <td>101.665</td>\n",
       "    </tr>\n",
       "  </tbody>\n",
       "</table>\n",
       "</div>"
      ],
      "text/plain": [
       "   valence  year  acousticness  ... release_date  speechiness    tempo\n",
       "0   0.0594  1921         0.982  ...         1921       0.0366   80.954\n",
       "1   0.9630  1921         0.732  ...         1921       0.4150   60.936\n",
       "2   0.0394  1921         0.961  ...         1921       0.0339  110.339\n",
       "3   0.1650  1921         0.967  ...         1921       0.0354  100.109\n",
       "4   0.2530  1921         0.957  ...         1921       0.0380  101.665\n",
       "\n",
       "[5 rows x 19 columns]"
      ]
     },
     "metadata": {
      "tags": []
     },
     "execution_count": 26
    }
   ]
  },
  {
   "cell_type": "code",
   "metadata": {
    "id": "dNnxyn0ygR-i"
   },
   "source": [
    "df_o = df_o.drop(['artists', 'name', 'release_date'], axis=1)\n",
    "\n",
    "df_o = df_o.dropna()\n",
    "\n",
    "df_o.shape"
   ],
   "execution_count": 27,
   "outputs": []
  },
  {
   "cell_type": "markdown",
   "metadata": {
    "id": "NLurRuaz4JuX"
   },
   "source": [
    "# Visualizations"
   ]
  },
  {
   "cell_type": "code",
   "metadata": {
    "id": "TShmcp7Ugw0A",
    "colab": {
     "base_uri": "https://localhost:8080/",
     "height": 284
    },
    "outputId": "fc96d1e0-b6cf-4944-8ba1-2a80a409857a"
   },
   "source": [
    "import seaborn as sns \n",
    "\n",
    "import matplotlib.pyplot as plt\n",
    "\n",
    "import warnings\n",
    "warnings.filterwarnings(\"ignore\")\n",
    "color = sns.color_palette()\n",
    "color_pal = [x['color'] for x in plt.rcParams['axes.prop_cycle']]\n",
    "\n",
    "features_o = ['energy','loudness','popularity']\n",
    "\n",
    "plt.rcParams['figure.figsize'] = (15, 4)\n",
    "\n",
    "plt.subplot(1, 3, 1)\n",
    "sns.distplot(df_o['energy'])\n",
    "\n",
    "plt.subplot(1, 3, 2)\n",
    "sns.distplot(df_o['loudness'])\n",
    "\n",
    "plt.subplot(1, 3, 3)\n",
    "sns.distplot(df_o['popularity'])\n",
    "\n",
    "\n",
    "plt.suptitle('Feature distribution ', fontsize = 10)\n",
    "plt.show()"
   ],
   "execution_count": 30,
   "outputs": [
    {
     "output_type": "display_data",
     "data": {
      "image/png": "[encoded data removed]",
      "text/plain": [
       "<Figure size 1080x288 with 3 Axes>"
      ]
     },
     "metadata": {
      "tags": [],
      "needs_background": "light"
     }
    }
   ]
  },
  {
   "cell_type": "code",
   "metadata": {
    "id": "eQnrKePphAr1",
    "colab": {
     "base_uri": "https://localhost:8080/",
     "height": 345
    },
    "outputId": "a224d73a-65cb-47ab-ba85-3955ae88e443"
   },
   "source": [
    "cor = df_o.corr()\n",
    "sns.heatmap(cor)"
   ],
   "execution_count": 31,
   "outputs": [
    {
     "output_type": "execute_result",
     "data": {
      "text/plain": [
       "<matplotlib.axes._subplots.AxesSubplot at 0x7f1319126210>"
      ]
     },
     "metadata": {
      "tags": []
     },
     "execution_count": 31
    },
    {
     "output_type": "display_data",
     "data": {
      "image/png": "[encoded data removed]",
      "text/plain": [
       "<Figure size 1080x288 with 2 Axes>"
      ]
     },
     "metadata": {
      "tags": [],
      "needs_background": "light"
     }
    }
   ]
  },
  {
   "cell_type": "markdown",
   "metadata": {
    "id": "TpJnyro6hGoG"
   },
   "source": [
    "# Building the model"
   ]
  },
  {
   "cell_type": "code",
   "metadata": {
    "id": "ul6jx4TnhFT9"
   },
   "source": [
    "from sklearn.preprocessing import MinMaxScaler, StandardScaler, MaxAbsScaler, RobustScaler\n",
    "from sklearn.compose import ColumnTransformer\n",
    "from sklearn.pipeline import Pipeline\n",
    "from sklearn.neighbors import NearestNeighbors\n",
    "\n",
    "import joblib"
   ],
   "execution_count": 32,
   "outputs": []
  },
  {
   "cell_type": "code",
   "metadata": {
    "id": "ASVvRBImhKib"
   },
   "source": [
    "df_id = df_o['id']\n",
    "df_features = df_o[df_o.columns.drop('id')]\n",
    "\n",
    "scalable_features = ['duration_ms', 'popularity', 'tempo', 'key','loudness']\n",
    "scaling_transformer = Pipeline(steps=[('scaler', MinMaxScaler())])\n",
    "knn = NearestNeighbors(n_neighbors=10, algorithm= 'ball_tree', radius=1.0)\n",
    "\n",
    "\n",
    "\n",
    "column_trans = ColumnTransformer(\n",
    "    transformers=[\n",
    "         ('scaled', scaling_transformer, scalable_features)],\n",
    "         remainder='passthrough'\n",
    ")\n",
    "\n",
    "transformed_features = column_trans.fit_transform(df_features)\n",
    "transformed_features.shape"
   ],
   "execution_count": 33,
   "outputs": []
  },
  {
   "cell_type": "code",
   "metadata": {
    "id": "gSq4zhr4hwYf",
    "colab": {
     "base_uri": "https://localhost:8080/"
    },
    "outputId": "236c82bc-8f44-4952-eb7c-e2107bcb5417"
   },
   "source": [
    "df_o.isna().sum()"
   ],
   "execution_count": 36,
   "outputs": [
    {
     "output_type": "execute_result",
     "data": {
      "text/plain": [
       "valence             0\n",
       "year                0\n",
       "acousticness        0\n",
       "danceability        0\n",
       "duration_ms         0\n",
       "energy              0\n",
       "explicit            0\n",
       "id                  0\n",
       "instrumentalness    0\n",
       "key                 0\n",
       "liveness            0\n",
       "loudness            0\n",
       "mode                0\n",
       "popularity          0\n",
       "speechiness         0\n",
       "tempo               0\n",
       "dtype: int64"
      ]
     },
     "metadata": {
      "tags": []
     },
     "execution_count": 36
    }
   ]
  },
  {
   "cell_type": "code",
   "metadata": {
    "id": "MTNh9cPYhzWh",
    "colab": {
     "base_uri": "https://localhost:8080/"
    },
    "outputId": "e0b372a4-c65c-4460-c3b5-d120353ff54d"
   },
   "source": [
    "knn.fit(transformed_features)"
   ],
   "execution_count": 37,
   "outputs": [
    {
     "output_type": "execute_result",
     "data": {
      "text/plain": [
       "NearestNeighbors(algorithm='ball_tree', leaf_size=30, metric='minkowski',\n",
       "                 metric_params=None, n_jobs=None, n_neighbors=10, p=2,\n",
       "                 radius=1.0)"
      ]
     },
     "metadata": {
      "tags": []
     },
     "execution_count": 37
    }
   ]
  },
  {
   "cell_type": "code",
   "metadata": {
    "id": "N7ReCnrzh3Lq"
   },
   "source": [
    "neighbors = knn.kneighbors(transformed_features[39000].reshape(1,-1), \n",
    "                           return_distance=False)[0][1:]\n",
    "\n",
    "neighbors"
   ],
   "execution_count": 38,
   "outputs": []
  },
  {
   "cell_type": "code",
   "metadata": {
    "id": "zOOVH_-GiHG4",
    "colab": {
     "base_uri": "https://localhost:8080/"
    },
    "outputId": "d92b8acd-7024-4714-c4a4-022000ed05a8"
   },
   "source": [
    "for n in neighbors:\n",
    "  print(df_id[n])"
   ],
   "execution_count": 40,
   "outputs": [
    {
     "output_type": "stream",
     "text": [
      "2BJvcoR0zdlTet5vQeTIoG\n",
      "3IYSB7QLWYhpi2gjBNACvE\n",
      "5Zj20q5l1doNGH24AUpqcV\n",
      "4HwIubkyAlBdNny3kRQAaa\n",
      "2ze0gHQll2OhQ7ojhfcmYg\n",
      "0eMHhpdrVKwQmekyBxX7he\n",
      "2vm1vcN9KacwojwTGOg1lm\n",
      "2NAjEPj7jEEKV3Kcu4EYWY\n",
      "20FJ0GMxWGwdNSnBx8oZei\n"
     ],
     "name": "stdout"
    }
   ]
  },
  {
   "cell_type": "code",
   "metadata": {
    "id": "tz4xcHcUiN_y",
    "colab": {
     "base_uri": "https://localhost:8080/",
     "height": 202
    },
    "outputId": "886ea0ad-0543-4c9c-8184-c9cd89ac562c"
   },
   "source": [
    "df = pd.read_csv('data_o.csv')\n",
    "df_new = df.query(\"id== '2BJvcoR0zdlTet5vQeTIoG'\")\n",
    "\n",
    "df_new"
   ],
   "execution_count": 45,
   "outputs": [
    {
     "output_type": "execute_result",
     "data": {
      "text/html": [
       "<div>\n",
       "<style scoped>\n",
       "    .dataframe tbody tr th:only-of-type {\n",
       "        vertical-align: middle;\n",
       "    }\n",
       "\n",
       "    .dataframe tbody tr th {\n",
       "        vertical-align: top;\n",
       "    }\n",
       "\n",
       "    .dataframe thead th {\n",
       "        text-align: right;\n",
       "    }\n",
       "</style>\n",
       "<table border=\"1\" class=\"dataframe\">\n",
       "  <thead>\n",
       "    <tr style=\"text-align: right;\">\n",
       "      <th></th>\n",
       "      <th>valence</th>\n",
       "      <th>year</th>\n",
       "      <th>acousticness</th>\n",
       "      <th>artists</th>\n",
       "      <th>danceability</th>\n",
       "      <th>duration_ms</th>\n",
       "      <th>energy</th>\n",
       "      <th>explicit</th>\n",
       "      <th>id</th>\n",
       "      <th>instrumentalness</th>\n",
       "      <th>key</th>\n",
       "      <th>liveness</th>\n",
       "      <th>loudness</th>\n",
       "      <th>mode</th>\n",
       "      <th>name</th>\n",
       "      <th>popularity</th>\n",
       "      <th>release_date</th>\n",
       "      <th>speechiness</th>\n",
       "      <th>tempo</th>\n",
       "    </tr>\n",
       "  </thead>\n",
       "  <tbody>\n",
       "    <tr>\n",
       "      <th>39000</th>\n",
       "      <td>0.0691</td>\n",
       "      <td>1928</td>\n",
       "      <td>0.992</td>\n",
       "      <td>['Frédéric Chopin', 'Vladimir Horowitz']</td>\n",
       "      <td>0.244</td>\n",
       "      <td>328267</td>\n",
       "      <td>0.00793</td>\n",
       "      <td>0</td>\n",
       "      <td>2BJvcoR0zdlTet5vQeTIoG</td>\n",
       "      <td>0.934</td>\n",
       "      <td>1</td>\n",
       "      <td>0.0878</td>\n",
       "      <td>-32.492</td>\n",
       "      <td>0</td>\n",
       "      <td>Étude in C-Sharp Minor, Op. 25, No. 7</td>\n",
       "      <td>0</td>\n",
       "      <td>1928</td>\n",
       "      <td>0.034</td>\n",
       "      <td>93.048</td>\n",
       "    </tr>\n",
       "  </tbody>\n",
       "</table>\n",
       "</div>"
      ],
      "text/plain": [
       "       valence  year  acousticness  ... release_date  speechiness   tempo\n",
       "39000   0.0691  1928         0.992  ...         1928        0.034  93.048\n",
       "\n",
       "[1 rows x 19 columns]"
      ]
     },
     "metadata": {
      "tags": []
     },
     "execution_count": 45
    }
   ]
  },
  {
   "cell_type": "code",
   "metadata": {
    "id": "GiUZBt3NigF5"
   },
   "source": [
    "returned_songs = [df.iloc[n] for n in neighbors]\n",
    "returned_songs[0]"
   ],
   "execution_count": 46,
   "outputs": []
  },
  {
   "cell_type": "code",
   "metadata": {
    "id": "5y5YTqlhitrH",
    "colab": {
     "base_uri": "https://localhost:8080/",
     "height": 35
    },
    "outputId": "854a31b2-b373-409e-9f9a-db67eae66994"
   },
   "source": [
    "returned_songs[0]['name']"
   ],
   "execution_count": 48,
   "outputs": [
    {
     "output_type": "execute_result",
     "data": {
      "application/vnd.google.colaboratory.intrinsic+json": {
       "type": "string"
      },
      "text/plain": [
       "'Étude in C-Sharp Minor, Op. 25, No. 7'"
      ]
     },
     "metadata": {
      "tags": []
     },
     "execution_count": 48
    }
   ]
  },
  {
   "cell_type": "code",
   "metadata": {
    "id": "0Zwd0P5bi0XJ",
    "colab": {
     "base_uri": "https://localhost:8080/"
    },
    "outputId": "0a1d5b72-98f3-4b98-d11f-1351ebb4754a"
   },
   "source": [
    "for song in returned_songs:\n",
    "  print(song[14])"
   ],
   "execution_count": 50,
   "outputs": [
    {
     "output_type": "stream",
     "text": [
      "Étude in C-Sharp Minor, Op. 25, No. 7\n",
      "Étude in C-Sharp Minor, Op. 25, No. 7\n",
      "Étude in C-Sharp Minor, Op. 25, No. 7\n",
      "Sonata, Op. 14, No. 3 in F Minor: II. Largo e sostenuto\n",
      "Sonata, Op. 14, No. 3 in F Minor: II. Largo e sostenuto\n",
      "Fantasiestücke, Op. 111: Con forza, assai marcato\n",
      "Fantasiestücke, Op. 111: Con forza, assai marcato\n",
      "Chopin: Nocturne No. 18 in E Major, Op. 62 No. 2\n",
      "Mazurka in C-Sharp Minor, Op. 30, No. 4\n"
     ],
     "name": "stdout"
    }
   ]
  },
  {
   "cell_type": "code",
   "metadata": {
    "id": "J21Dr6w9i5Yb",
    "colab": {
     "base_uri": "https://localhost:8080/",
     "height": 131
    },
    "outputId": "9c2587e9-503e-40af-f903-c385d872b4bd"
   },
   "source": [
    "df_pred = df.query(\"name== 'Uprising'\")\n",
    "df_pred"
   ],
   "execution_count": 51,
   "outputs": [
    {
     "output_type": "execute_result",
     "data": {
      "text/html": [
       "<div>\n",
       "<style scoped>\n",
       "    .dataframe tbody tr th:only-of-type {\n",
       "        vertical-align: middle;\n",
       "    }\n",
       "\n",
       "    .dataframe tbody tr th {\n",
       "        vertical-align: top;\n",
       "    }\n",
       "\n",
       "    .dataframe thead th {\n",
       "        text-align: right;\n",
       "    }\n",
       "</style>\n",
       "<table border=\"1\" class=\"dataframe\">\n",
       "  <thead>\n",
       "    <tr style=\"text-align: right;\">\n",
       "      <th></th>\n",
       "      <th>valence</th>\n",
       "      <th>year</th>\n",
       "      <th>acousticness</th>\n",
       "      <th>artists</th>\n",
       "      <th>danceability</th>\n",
       "      <th>duration_ms</th>\n",
       "      <th>energy</th>\n",
       "      <th>explicit</th>\n",
       "      <th>id</th>\n",
       "      <th>instrumentalness</th>\n",
       "      <th>key</th>\n",
       "      <th>liveness</th>\n",
       "      <th>loudness</th>\n",
       "      <th>mode</th>\n",
       "      <th>name</th>\n",
       "      <th>popularity</th>\n",
       "      <th>release_date</th>\n",
       "      <th>speechiness</th>\n",
       "      <th>tempo</th>\n",
       "    </tr>\n",
       "  </thead>\n",
       "  <tbody>\n",
       "    <tr>\n",
       "      <th>17458</th>\n",
       "      <td>0.411</td>\n",
       "      <td>2009</td>\n",
       "      <td>0.000202</td>\n",
       "      <td>['Muse']</td>\n",
       "      <td>0.602</td>\n",
       "      <td>304840</td>\n",
       "      <td>0.905</td>\n",
       "      <td>0</td>\n",
       "      <td>4VqPOruhp5EdPBeR92t6lQ</td>\n",
       "      <td>0.064000</td>\n",
       "      <td>2</td>\n",
       "      <td>0.117</td>\n",
       "      <td>-4.046</td>\n",
       "      <td>1</td>\n",
       "      <td>Uprising</td>\n",
       "      <td>76</td>\n",
       "      <td>2009-09-10</td>\n",
       "      <td>0.0775</td>\n",
       "      <td>128.019</td>\n",
       "    </tr>\n",
       "    <tr>\n",
       "      <th>138913</th>\n",
       "      <td>0.428</td>\n",
       "      <td>2010</td>\n",
       "      <td>0.009910</td>\n",
       "      <td>['Sabaton']</td>\n",
       "      <td>0.527</td>\n",
       "      <td>295640</td>\n",
       "      <td>0.866</td>\n",
       "      <td>0</td>\n",
       "      <td>0cajnv3diwVnb2KXv7hLVs</td>\n",
       "      <td>0.000052</td>\n",
       "      <td>6</td>\n",
       "      <td>0.129</td>\n",
       "      <td>-3.763</td>\n",
       "      <td>0</td>\n",
       "      <td>Uprising</td>\n",
       "      <td>55</td>\n",
       "      <td>2010-05-21</td>\n",
       "      <td>0.0346</td>\n",
       "      <td>87.986</td>\n",
       "    </tr>\n",
       "  </tbody>\n",
       "</table>\n",
       "</div>"
      ],
      "text/plain": [
       "        valence  year  acousticness  ... release_date  speechiness    tempo\n",
       "17458     0.411  2009      0.000202  ...   2009-09-10       0.0775  128.019\n",
       "138913    0.428  2010      0.009910  ...   2010-05-21       0.0346   87.986\n",
       "\n",
       "[2 rows x 19 columns]"
      ]
     },
     "metadata": {
      "tags": []
     },
     "execution_count": 51
    }
   ]
  },
  {
   "cell_type": "code",
   "metadata": {
    "id": "RrDYQs5ijlXn"
   },
   "source": [
    "neighbors_uprising = knn.kneighbors(transformed_features[17458].reshape(1,-1), return_distance=False)[0][1:]"
   ],
   "execution_count": 52,
   "outputs": []
  },
  {
   "cell_type": "code",
   "metadata": {
    "id": "eMSxYTM6juLP",
    "colab": {
     "base_uri": "https://localhost:8080/"
    },
    "outputId": "27946011-45e5-4b2b-d277-b6610d5c6811"
   },
   "source": [
    "for n in neighbors_uprising:\n",
    "  print(df_id[n])"
   ],
   "execution_count": 53,
   "outputs": [
    {
     "output_type": "stream",
     "text": [
      "1NhPKVLsHhFUHIOZ32QnS2\n",
      "5RoIXwyTCdyUjpMMkk4uPd\n",
      "58dRbjabfppvKsQlV0timz\n",
      "2hUFjIbpKaRqs97OjUAmXb\n",
      "6NUh68V6ikd96sTiUCH6ID\n",
      "0vz64VTiPPBpcmla0QvAI9\n",
      "0fZq7eIpfg7GHi9UOeRaaB\n",
      "4DyKZmONpoggnn3piyjad2\n",
      "3lJwIAfeWtnNRbJXWbIHKD\n"
     ],
     "name": "stdout"
    }
   ]
  },
  {
   "cell_type": "code",
   "metadata": {
    "id": "XRmnsYvujyGA"
   },
   "source": [
    "returned_songs_uprising = [df.iloc[n] for n in neighbors_uprising]\n",
    "\n",
    "for song in returned_songs_uprising:\n",
    "  print(song[8], song[14], song[3])"
   ],
   "execution_count": 54,
   "outputs": []
  },
  {
   "cell_type": "code",
   "metadata": {
    "id": "YwmAdRiAlGqW",
    "outputId": "9782aef2-f0c6-4087-8762-b4f670427d77",
    "colab": {
     "base_uri": "https://localhost:8080/",
     "height": 345
    }
   },
   "source": [
    "cor_songs_uprising = pd.DataFrame(returned_songs_uprising)\n",
    "\n",
    "cor = cor_songs_uprising.corr()\n",
    "sns.heatmap(cor)"
   ],
   "execution_count": 74,
   "outputs": [
    {
     "output_type": "execute_result",
     "data": {
      "text/plain": [
       "<matplotlib.axes._subplots.AxesSubplot at 0x7f128a51c150>"
      ]
     },
     "metadata": {
      "tags": []
     },
     "execution_count": 74
    },
    {
     "output_type": "display_data",
     "data": {
      "image/png": "[encoded data removed]",
      "text/plain": [
       "<Figure size 1080x288 with 2 Axes>"
      ]
     },
     "metadata": {
      "tags": [],
      "needs_background": "light"
     }
    }
   ]
  },
  {
   "cell_type": "markdown",
   "metadata": {
    "id": "P2avx470nZoH"
   },
   "source": [
    "# Save and serialize the model"
   ]
  },
  {
   "cell_type": "code",
   "metadata": {
    "id": "S0C_fMefkjoL",
    "colab": {
     "base_uri": "https://localhost:8080/"
    },
    "outputId": "2a176c26-cd4e-47eb-b1b2-6e83fb3a67de"
   },
   "source": [
    "joblib.dump(knn, 'knnbaseline.joblib.gz', compress=('gzip', 3))"
   ],
   "execution_count": 57,
   "outputs": [
    {
     "output_type": "execute_result",
     "data": {
      "text/plain": [
       "['knnbaseline.joblib.gz']"
      ]
     },
     "metadata": {
      "tags": []
     },
     "execution_count": 57
    }
   ]
  },
  {
   "cell_type": "code",
   "metadata": {
    "id": "u4ycFWIrniRL"
   },
   "source": [
    "model = joblib.load('knnbaseline.joblib.gz')"
   ],
   "execution_count": 63,
   "outputs": []
  },
  {
   "cell_type": "markdown",
   "metadata": {
    "id": "LcV0uBVxnsXb"
   },
   "source": [
    "# Autoencoder and K-NN"
   ]
  },
  {
   "cell_type": "code",
   "metadata": {
    "id": "f9zYupluw30q",
    "outputId": "51611d57-31ac-40ec-98c3-9fd43159d024",
    "colab": {
     "base_uri": "https://localhost:8080/"
    }
   },
   "source": [
    "!pip install keras-tuner"
   ],
   "execution_count": 78,
   "outputs": [
    {
     "output_type": "stream",
     "text": [
      "Collecting keras-tuner\n",
      "\u001B[?25l  Downloading https://files.pythonhosted.org/packages/a2/ba/c7a7cda64b67846bde66ffdaaf3199a79d4e35ab6b6f170cc1b7d235646e/keras_tuner-1.0.3-py3-none-any.whl (96kB)\n",
      "\r\u001B[K     |███▍                            | 10kB 17.0MB/s eta 0:00:01\r\u001B[K     |██████▉                         | 20kB 23.2MB/s eta 0:00:01\r\u001B[K     |██████████▏                     | 30kB 27.4MB/s eta 0:00:01\r\u001B[K     |█████████████▋                  | 40kB 28.3MB/s eta 0:00:01\r\u001B[K     |█████████████████               | 51kB 28.6MB/s eta 0:00:01\r\u001B[K     |████████████████████▍           | 61kB 30.4MB/s eta 0:00:01\r\u001B[K     |███████████████████████▊        | 71kB 30.1MB/s eta 0:00:01\r\u001B[K     |███████████████████████████▏    | 81kB 29.1MB/s eta 0:00:01\r\u001B[K     |██████████████████████████████▋ | 92kB 30.3MB/s eta 0:00:01\r\u001B[K     |████████████████████████████████| 102kB 10.3MB/s \n",
      "\u001B[?25hRequirement already satisfied: scipy in /usr/local/lib/python3.7/dist-packages (from keras-tuner) (1.4.1)\n",
      "Requirement already satisfied: requests in /usr/local/lib/python3.7/dist-packages (from keras-tuner) (2.23.0)\n",
      "Requirement already satisfied: ipython in /usr/local/lib/python3.7/dist-packages (from keras-tuner) (5.5.0)\n",
      "Collecting kt-legacy\n",
      "  Downloading https://files.pythonhosted.org/packages/76/c7/7ebe02ef2495b84a47dc92a4e943260b264b6546783ca23e451bcd8c09c1/kt-legacy-1.0.3.tar.gz\n",
      "Requirement already satisfied: tensorboard in /usr/local/lib/python3.7/dist-packages (from keras-tuner) (2.5.0)\n",
      "Requirement already satisfied: packaging in /usr/local/lib/python3.7/dist-packages (from keras-tuner) (20.9)\n",
      "Requirement already satisfied: numpy in /usr/local/lib/python3.7/dist-packages (from keras-tuner) (1.19.5)\n",
      "Requirement already satisfied: chardet<4,>=3.0.2 in /usr/local/lib/python3.7/dist-packages (from requests->keras-tuner) (3.0.4)\n",
      "Requirement already satisfied: idna<3,>=2.5 in /usr/local/lib/python3.7/dist-packages (from requests->keras-tuner) (2.10)\n",
      "Requirement already satisfied: urllib3!=1.25.0,!=1.25.1,<1.26,>=1.21.1 in /usr/local/lib/python3.7/dist-packages (from requests->keras-tuner) (1.24.3)\n",
      "Requirement already satisfied: certifi>=2017.4.17 in /usr/local/lib/python3.7/dist-packages (from requests->keras-tuner) (2021.5.30)\n",
      "Requirement already satisfied: traitlets>=4.2 in /usr/local/lib/python3.7/dist-packages (from ipython->keras-tuner) (5.0.5)\n",
      "Requirement already satisfied: decorator in /usr/local/lib/python3.7/dist-packages (from ipython->keras-tuner) (4.4.2)\n",
      "Requirement already satisfied: setuptools>=18.5 in /usr/local/lib/python3.7/dist-packages (from ipython->keras-tuner) (57.0.0)\n",
      "Requirement already satisfied: prompt-toolkit<2.0.0,>=1.0.4 in /usr/local/lib/python3.7/dist-packages (from ipython->keras-tuner) (1.0.18)\n",
      "Requirement already satisfied: simplegeneric>0.8 in /usr/local/lib/python3.7/dist-packages (from ipython->keras-tuner) (0.8.1)\n",
      "Requirement already satisfied: pickleshare in /usr/local/lib/python3.7/dist-packages (from ipython->keras-tuner) (0.7.5)\n",
      "Requirement already satisfied: pygments in /usr/local/lib/python3.7/dist-packages (from ipython->keras-tuner) (2.6.1)\n",
      "Requirement already satisfied: pexpect; sys_platform != \"win32\" in /usr/local/lib/python3.7/dist-packages (from ipython->keras-tuner) (4.8.0)\n",
      "Requirement already satisfied: werkzeug>=0.11.15 in /usr/local/lib/python3.7/dist-packages (from tensorboard->keras-tuner) (1.0.1)\n",
      "Requirement already satisfied: google-auth<2,>=1.6.3 in /usr/local/lib/python3.7/dist-packages (from tensorboard->keras-tuner) (1.31.0)\n",
      "Requirement already satisfied: tensorboard-data-server<0.7.0,>=0.6.0 in /usr/local/lib/python3.7/dist-packages (from tensorboard->keras-tuner) (0.6.1)\n",
      "Requirement already satisfied: google-auth-oauthlib<0.5,>=0.4.1 in /usr/local/lib/python3.7/dist-packages (from tensorboard->keras-tuner) (0.4.4)\n",
      "Requirement already satisfied: wheel>=0.26; python_version >= \"3\" in /usr/local/lib/python3.7/dist-packages (from tensorboard->keras-tuner) (0.36.2)\n",
      "Requirement already satisfied: grpcio>=1.24.3 in /usr/local/lib/python3.7/dist-packages (from tensorboard->keras-tuner) (1.34.1)\n",
      "Requirement already satisfied: protobuf>=3.6.0 in /usr/local/lib/python3.7/dist-packages (from tensorboard->keras-tuner) (3.12.4)\n",
      "Requirement already satisfied: markdown>=2.6.8 in /usr/local/lib/python3.7/dist-packages (from tensorboard->keras-tuner) (3.3.4)\n",
      "Requirement already satisfied: tensorboard-plugin-wit>=1.6.0 in /usr/local/lib/python3.7/dist-packages (from tensorboard->keras-tuner) (1.8.0)\n",
      "Requirement already satisfied: absl-py>=0.4 in /usr/local/lib/python3.7/dist-packages (from tensorboard->keras-tuner) (0.12.0)\n",
      "Requirement already satisfied: pyparsing>=2.0.2 in /usr/local/lib/python3.7/dist-packages (from packaging->keras-tuner) (2.4.7)\n",
      "Requirement already satisfied: ipython-genutils in /usr/local/lib/python3.7/dist-packages (from traitlets>=4.2->ipython->keras-tuner) (0.2.0)\n",
      "Requirement already satisfied: six>=1.9.0 in /usr/local/lib/python3.7/dist-packages (from prompt-toolkit<2.0.0,>=1.0.4->ipython->keras-tuner) (1.15.0)\n",
      "Requirement already satisfied: wcwidth in /usr/local/lib/python3.7/dist-packages (from prompt-toolkit<2.0.0,>=1.0.4->ipython->keras-tuner) (0.2.5)\n",
      "Requirement already satisfied: ptyprocess>=0.5 in /usr/local/lib/python3.7/dist-packages (from pexpect; sys_platform != \"win32\"->ipython->keras-tuner) (0.7.0)\n",
      "Requirement already satisfied: rsa<5,>=3.1.4; python_version >= \"3.6\" in /usr/local/lib/python3.7/dist-packages (from google-auth<2,>=1.6.3->tensorboard->keras-tuner) (4.7.2)\n",
      "Requirement already satisfied: cachetools<5.0,>=2.0.0 in /usr/local/lib/python3.7/dist-packages (from google-auth<2,>=1.6.3->tensorboard->keras-tuner) (4.2.2)\n",
      "Requirement already satisfied: pyasn1-modules>=0.2.1 in /usr/local/lib/python3.7/dist-packages (from google-auth<2,>=1.6.3->tensorboard->keras-tuner) (0.2.8)\n",
      "Requirement already satisfied: requests-oauthlib>=0.7.0 in /usr/local/lib/python3.7/dist-packages (from google-auth-oauthlib<0.5,>=0.4.1->tensorboard->keras-tuner) (1.3.0)\n",
      "Requirement already satisfied: importlib-metadata; python_version < \"3.8\" in /usr/local/lib/python3.7/dist-packages (from markdown>=2.6.8->tensorboard->keras-tuner) (4.5.0)\n",
      "Requirement already satisfied: pyasn1>=0.1.3 in /usr/local/lib/python3.7/dist-packages (from rsa<5,>=3.1.4; python_version >= \"3.6\"->google-auth<2,>=1.6.3->tensorboard->keras-tuner) (0.4.8)\n",
      "Requirement already satisfied: oauthlib>=3.0.0 in /usr/local/lib/python3.7/dist-packages (from requests-oauthlib>=0.7.0->google-auth-oauthlib<0.5,>=0.4.1->tensorboard->keras-tuner) (3.1.1)\n",
      "Requirement already satisfied: zipp>=0.5 in /usr/local/lib/python3.7/dist-packages (from importlib-metadata; python_version < \"3.8\"->markdown>=2.6.8->tensorboard->keras-tuner) (3.4.1)\n",
      "Requirement already satisfied: typing-extensions>=3.6.4; python_version < \"3.8\" in /usr/local/lib/python3.7/dist-packages (from importlib-metadata; python_version < \"3.8\"->markdown>=2.6.8->tensorboard->keras-tuner) (3.7.4.3)\n",
      "Building wheels for collected packages: kt-legacy\n",
      "  Building wheel for kt-legacy (setup.py) ... \u001B[?25l\u001B[?25hdone\n",
      "  Created wheel for kt-legacy: filename=kt_legacy-1.0.3-cp37-none-any.whl size=9569 sha256=97b4bf0c2f1cddd17f7268a05091bb479a4b814ae768193ec8e80f7ba344f63d\n",
      "  Stored in directory: /root/.cache/pip/wheels/95/99/a8/6b116b0f69be60cc475d1cd36680f3a09f284d86655bb99d93\n",
      "Successfully built kt-legacy\n",
      "Installing collected packages: kt-legacy, keras-tuner\n",
      "Successfully installed keras-tuner-1.0.3 kt-legacy-1.0.3\n"
     ],
     "name": "stdout"
    }
   ]
  },
  {
   "cell_type": "code",
   "metadata": {
    "id": "jI77hXF0nreZ",
    "outputId": "34640cf1-fbfe-456c-f361-c4a33476cea5",
    "colab": {
     "base_uri": "https://localhost:8080/"
    }
   },
   "source": [
    "%load_ext tensorboard\n",
    "from tensorflow.keras.layers import Input, Dense, Conv2D, MaxPooling2D, UpSampling2D\n",
    "from tensorflow.keras.models import Model\n",
    "from kerastuner.tuners import RandomSearch\n"
   ],
   "execution_count": 79,
   "outputs": [
    {
     "output_type": "stream",
     "text": [
      "The tensorboard extension is already loaded. To reload it, use:\n",
      "  %reload_ext tensorboard\n"
     ],
     "name": "stdout"
    }
   ]
  },
  {
   "cell_type": "code",
   "metadata": {
    "id": "lR8iLdgrnCOl"
   },
   "source": [
    "input_df = Input( shape = (15, ))\n",
    "\n",
    "x = Dense(7, activation = 'relu')(input_df)\n",
    "x = Dense(64, activation = 'relu', kernel_initializer='glorot_uniform')(x)\n",
    "x = Dense(128, activation = 'relu', kernel_initializer='glorot_uniform')(x)\n",
    "x = Dense(256, activation = 'relu', kernel_initializer='glorot_uniform')(x)\n",
    "\n",
    "encoded = Dense(15, activation = 'relu', kernel_initializer='glorot_uniform')(x)\n",
    "\n",
    "x = Dense(256, activation = 'relu', kernel_initializer='glorot_uniform')(encoded)\n",
    "x = Dense(128, activation = 'relu', kernel_initializer='glorot_uniform')(x)\n",
    "\n",
    "decoded = Dense(15, kernel_initializer='glorot_uniform')(x)\n",
    "autoencoder = Model(input_df, decoded)\n",
    "encoder = Model(input_df, encoded)\n",
    "\n",
    "autoencoder.compile(optimizer = 'adam',\n",
    "                    loss = 'mean_squared_error')"
   ],
   "execution_count": 65,
   "outputs": []
  },
  {
   "cell_type": "code",
   "metadata": {
    "id": "u6FYjs9moHE8"
   },
   "source": [
    "autoencoder.fit(transformed_features, \n",
    "                transformed_features, \n",
    "                batch_size= 50, \n",
    "                epochs = 25, \n",
    "                verbose = 1)"
   ],
   "execution_count": null,
   "outputs": []
  },
  {
   "cell_type": "markdown",
   "metadata": {
    "id": "hhtwSRLdx1Jp"
   },
   "source": [
    "# Random Search Model \n",
    "### (couldn't get it working)"
   ]
  },
  {
   "cell_type": "code",
   "metadata": {
    "id": "A4rMiAi2ve3g"
   },
   "source": [
    "def spotify_model(hp):\n",
    "    model = joblib.load('knnbaseline.joblib.gz')\n",
    "  \n",
    "    input_df = Input( shape = (15, ))\n",
    "  \n",
    "    x = Dense(7, activation = 'relu')(input_df)\n",
    "    x = Dense(64, activation = 'relu', kernel_initializer='glorot_uniform')(x)\n",
    "    x = Dense(128, activation = 'relu', kernel_initializer='glorot_uniform')(x)\n",
    "    x = Dense(256, activation = 'relu', kernel_initializer='glorot_uniform')(x)\n",
    "\n",
    "    encoded = Dense(15, activation = 'relu', \n",
    "                    kernel_initializer='glorot_uniform')(x)\n",
    "\n",
    "    x = Dense(256, activation = 'relu', \n",
    "              kernel_initializer='glorot_uniform')(encoded)\n",
    "    x = Dense(128, activation = 'relu', kernel_initializer='glorot_uniform')(x)\n",
    "\n",
    "    decoded = Dense(15, kernel_initializer='glorot_uniform')(x)\n",
    "    autoencoder = Model(input_df, decoded)\n",
    "    encoder = Model(input_df, encoded)\n",
    "\n",
    "    autoencoder.compile(optimizer\n",
    "                        =keras.optimizers.Adam(\n",
    "                            hp.Choice('learning_rate',\n",
    "                                      values=[1e-2, 1e-3, 1e-4])),\n",
    "                        loss = 'mean_squared_error')\n",
    "    return model"
   ],
   "execution_count": 81,
   "outputs": []
  },
  {
   "cell_type": "code",
   "metadata": {
    "id": "lIcn3c3zr-et",
    "outputId": "61589d29-9b4c-4a0e-e7de-0e742f92bb50",
    "colab": {
     "base_uri": "https://localhost:8080/",
     "height": 1000
    }
   },
   "source": [
    "tuner = RandomSearch(\n",
    "    spotify_model,\n",
    "    objective='val_accuracy',\n",
    "    max_trials=5,\n",
    "    executions_per_trial=3,\n",
    "    directory='./keras-tuner-spotify',\n",
    "    project_name='SpotifySleuth')"
   ],
   "execution_count": 82,
   "outputs": [
    {
     "output_type": "stream",
     "text": [
      "Traceback (most recent call last):\n",
      "  File \"/usr/local/lib/python3.7/dist-packages/keras_tuner/engine/hypermodel.py\", line 127, in build\n",
      "    model = self.hypermodel.build(hp)\n",
      "  File \"<ipython-input-81-7fcd0f80d563>\", line 23, in spotify_model\n",
      "    =keras.optimizers.Adam(\n",
      "NameError: name 'keras' is not defined\n"
     ],
     "name": "stderr"
    },
    {
     "output_type": "stream",
     "text": [
      "Invalid model 0/5\n"
     ],
     "name": "stdout"
    },
    {
     "output_type": "stream",
     "text": [
      "Traceback (most recent call last):\n",
      "  File \"/usr/local/lib/python3.7/dist-packages/keras_tuner/engine/hypermodel.py\", line 127, in build\n",
      "    model = self.hypermodel.build(hp)\n",
      "  File \"<ipython-input-81-7fcd0f80d563>\", line 23, in spotify_model\n",
      "    =keras.optimizers.Adam(\n",
      "NameError: name 'keras' is not defined\n"
     ],
     "name": "stderr"
    },
    {
     "output_type": "stream",
     "text": [
      "Invalid model 1/5\n"
     ],
     "name": "stdout"
    },
    {
     "output_type": "stream",
     "text": [
      "Traceback (most recent call last):\n",
      "  File \"/usr/local/lib/python3.7/dist-packages/keras_tuner/engine/hypermodel.py\", line 127, in build\n",
      "    model = self.hypermodel.build(hp)\n",
      "  File \"<ipython-input-81-7fcd0f80d563>\", line 23, in spotify_model\n",
      "    =keras.optimizers.Adam(\n",
      "NameError: name 'keras' is not defined\n"
     ],
     "name": "stderr"
    },
    {
     "output_type": "stream",
     "text": [
      "Invalid model 2/5\n"
     ],
     "name": "stdout"
    },
    {
     "output_type": "stream",
     "text": [
      "Traceback (most recent call last):\n",
      "  File \"/usr/local/lib/python3.7/dist-packages/keras_tuner/engine/hypermodel.py\", line 127, in build\n",
      "    model = self.hypermodel.build(hp)\n",
      "  File \"<ipython-input-81-7fcd0f80d563>\", line 23, in spotify_model\n",
      "    =keras.optimizers.Adam(\n",
      "NameError: name 'keras' is not defined\n"
     ],
     "name": "stderr"
    },
    {
     "output_type": "stream",
     "text": [
      "Invalid model 3/5\n"
     ],
     "name": "stdout"
    },
    {
     "output_type": "stream",
     "text": [
      "Traceback (most recent call last):\n",
      "  File \"/usr/local/lib/python3.7/dist-packages/keras_tuner/engine/hypermodel.py\", line 127, in build\n",
      "    model = self.hypermodel.build(hp)\n",
      "  File \"<ipython-input-81-7fcd0f80d563>\", line 23, in spotify_model\n",
      "    =keras.optimizers.Adam(\n",
      "NameError: name 'keras' is not defined\n"
     ],
     "name": "stderr"
    },
    {
     "output_type": "stream",
     "text": [
      "Invalid model 4/5\n",
      "Invalid model 5/5\n"
     ],
     "name": "stdout"
    },
    {
     "output_type": "stream",
     "text": [
      "Traceback (most recent call last):\n",
      "  File \"/usr/local/lib/python3.7/dist-packages/keras_tuner/engine/hypermodel.py\", line 127, in build\n",
      "    model = self.hypermodel.build(hp)\n",
      "  File \"<ipython-input-81-7fcd0f80d563>\", line 23, in spotify_model\n",
      "    =keras.optimizers.Adam(\n",
      "NameError: name 'keras' is not defined\n"
     ],
     "name": "stderr"
    },
    {
     "output_type": "error",
     "ename": "RuntimeError",
     "evalue": "ignored",
     "traceback": [
      "\u001B[0;31m---------------------------------------------------------------------------\u001B[0m",
      "\u001B[0;31mNameError\u001B[0m                                 Traceback (most recent call last)",
      "\u001B[0;32m/usr/local/lib/python3.7/dist-packages/keras_tuner/engine/hypermodel.py\u001B[0m in \u001B[0;36mbuild\u001B[0;34m(self, hp)\u001B[0m\n\u001B[1;32m    126\u001B[0m                 \u001B[0;32mwith\u001B[0m \u001B[0mmaybe_distribute\u001B[0m\u001B[0;34m(\u001B[0m\u001B[0mself\u001B[0m\u001B[0;34m.\u001B[0m\u001B[0mdistribution_strategy\u001B[0m\u001B[0;34m)\u001B[0m\u001B[0;34m:\u001B[0m\u001B[0;34m\u001B[0m\u001B[0;34m\u001B[0m\u001B[0m\n\u001B[0;32m--> 127\u001B[0;31m                     \u001B[0mmodel\u001B[0m \u001B[0;34m=\u001B[0m \u001B[0mself\u001B[0m\u001B[0;34m.\u001B[0m\u001B[0mhypermodel\u001B[0m\u001B[0;34m.\u001B[0m\u001B[0mbuild\u001B[0m\u001B[0;34m(\u001B[0m\u001B[0mhp\u001B[0m\u001B[0;34m)\u001B[0m\u001B[0;34m\u001B[0m\u001B[0;34m\u001B[0m\u001B[0m\n\u001B[0m\u001B[1;32m    128\u001B[0m             \u001B[0;32mexcept\u001B[0m\u001B[0;34m:\u001B[0m\u001B[0;34m\u001B[0m\u001B[0;34m\u001B[0m\u001B[0m\n",
      "\u001B[0;32m<ipython-input-81-7fcd0f80d563>\u001B[0m in \u001B[0;36mspotify_model\u001B[0;34m(hp)\u001B[0m\n\u001B[1;32m     22\u001B[0m     autoencoder.compile(optimizer\n\u001B[0;32m---> 23\u001B[0;31m                         =keras.optimizers.Adam(\n\u001B[0m\u001B[1;32m     24\u001B[0m                             hp.Choice('learning_rate',\n",
      "\u001B[0;31mNameError\u001B[0m: name 'keras' is not defined",
      "\nDuring handling of the above exception, another exception occurred:\n",
      "\u001B[0;31mRuntimeError\u001B[0m                              Traceback (most recent call last)",
      "\u001B[0;32m<ipython-input-82-550b6ff5561c>\u001B[0m in \u001B[0;36m<module>\u001B[0;34m()\u001B[0m\n\u001B[1;32m      5\u001B[0m     \u001B[0mexecutions_per_trial\u001B[0m\u001B[0;34m=\u001B[0m\u001B[0;36m3\u001B[0m\u001B[0;34m,\u001B[0m\u001B[0;34m\u001B[0m\u001B[0;34m\u001B[0m\u001B[0m\n\u001B[1;32m      6\u001B[0m     \u001B[0mdirectory\u001B[0m\u001B[0;34m=\u001B[0m\u001B[0;34m'./keras-tuner-spotify'\u001B[0m\u001B[0;34m,\u001B[0m\u001B[0;34m\u001B[0m\u001B[0;34m\u001B[0m\u001B[0m\n\u001B[0;32m----> 7\u001B[0;31m     project_name='SpotifySleuth')\n\u001B[0m",
      "\u001B[0;32m/usr/local/lib/python3.7/dist-packages/keras_tuner/tuners/randomsearch.py\u001B[0m in \u001B[0;36m__init__\u001B[0;34m(self, hypermodel, objective, max_trials, seed, hyperparameters, tune_new_entries, allow_new_entries, **kwargs)\u001B[0m\n\u001B[1;32m    132\u001B[0m             \u001B[0mallow_new_entries\u001B[0m\u001B[0;34m=\u001B[0m\u001B[0mallow_new_entries\u001B[0m\u001B[0;34m,\u001B[0m\u001B[0;34m\u001B[0m\u001B[0;34m\u001B[0m\u001B[0m\n\u001B[1;32m    133\u001B[0m         )\n\u001B[0;32m--> 134\u001B[0;31m         \u001B[0msuper\u001B[0m\u001B[0;34m(\u001B[0m\u001B[0mRandomSearch\u001B[0m\u001B[0;34m,\u001B[0m \u001B[0mself\u001B[0m\u001B[0;34m)\u001B[0m\u001B[0;34m.\u001B[0m\u001B[0m__init__\u001B[0m\u001B[0;34m(\u001B[0m\u001B[0moracle\u001B[0m\u001B[0;34m,\u001B[0m \u001B[0mhypermodel\u001B[0m\u001B[0;34m,\u001B[0m \u001B[0;34m**\u001B[0m\u001B[0mkwargs\u001B[0m\u001B[0;34m)\u001B[0m\u001B[0;34m\u001B[0m\u001B[0;34m\u001B[0m\u001B[0m\n\u001B[0m",
      "\u001B[0;32m/usr/local/lib/python3.7/dist-packages/keras_tuner/engine/multi_execution_tuner.py\u001B[0m in \u001B[0;36m__init__\u001B[0;34m(self, oracle, hypermodel, executions_per_trial, **kwargs)\u001B[0m\n\u001B[1;32m     49\u001B[0m \u001B[0;34m\u001B[0m\u001B[0m\n\u001B[1;32m     50\u001B[0m     \u001B[0;32mdef\u001B[0m \u001B[0m__init__\u001B[0m\u001B[0;34m(\u001B[0m\u001B[0mself\u001B[0m\u001B[0;34m,\u001B[0m \u001B[0moracle\u001B[0m\u001B[0;34m,\u001B[0m \u001B[0mhypermodel\u001B[0m\u001B[0;34m,\u001B[0m \u001B[0mexecutions_per_trial\u001B[0m\u001B[0;34m=\u001B[0m\u001B[0;36m1\u001B[0m\u001B[0;34m,\u001B[0m \u001B[0;34m**\u001B[0m\u001B[0mkwargs\u001B[0m\u001B[0;34m)\u001B[0m\u001B[0;34m:\u001B[0m\u001B[0;34m\u001B[0m\u001B[0;34m\u001B[0m\u001B[0m\n\u001B[0;32m---> 51\u001B[0;31m         \u001B[0msuper\u001B[0m\u001B[0;34m(\u001B[0m\u001B[0mMultiExecutionTuner\u001B[0m\u001B[0;34m,\u001B[0m \u001B[0mself\u001B[0m\u001B[0;34m)\u001B[0m\u001B[0;34m.\u001B[0m\u001B[0m__init__\u001B[0m\u001B[0;34m(\u001B[0m\u001B[0moracle\u001B[0m\u001B[0;34m,\u001B[0m \u001B[0mhypermodel\u001B[0m\u001B[0;34m,\u001B[0m \u001B[0;34m**\u001B[0m\u001B[0mkwargs\u001B[0m\u001B[0;34m)\u001B[0m\u001B[0;34m\u001B[0m\u001B[0;34m\u001B[0m\u001B[0m\n\u001B[0m\u001B[1;32m     52\u001B[0m         \u001B[0;32mif\u001B[0m \u001B[0misinstance\u001B[0m\u001B[0;34m(\u001B[0m\u001B[0moracle\u001B[0m\u001B[0;34m.\u001B[0m\u001B[0mobjective\u001B[0m\u001B[0;34m,\u001B[0m \u001B[0mlist\u001B[0m\u001B[0;34m)\u001B[0m\u001B[0;34m:\u001B[0m\u001B[0;34m\u001B[0m\u001B[0;34m\u001B[0m\u001B[0m\n\u001B[1;32m     53\u001B[0m             raise ValueError(\n",
      "\u001B[0;32m/usr/local/lib/python3.7/dist-packages/keras_tuner/engine/tuner.py\u001B[0m in \u001B[0;36m__init__\u001B[0;34m(self, oracle, hypermodel, max_model_size, optimizer, loss, metrics, distribution_strategy, directory, project_name, logger, tuner_id, overwrite)\u001B[0m\n\u001B[1;32m    106\u001B[0m             \u001B[0mproject_name\u001B[0m\u001B[0;34m=\u001B[0m\u001B[0mproject_name\u001B[0m\u001B[0;34m,\u001B[0m\u001B[0;34m\u001B[0m\u001B[0;34m\u001B[0m\u001B[0m\n\u001B[1;32m    107\u001B[0m             \u001B[0mlogger\u001B[0m\u001B[0;34m=\u001B[0m\u001B[0mlogger\u001B[0m\u001B[0;34m,\u001B[0m\u001B[0;34m\u001B[0m\u001B[0;34m\u001B[0m\u001B[0m\n\u001B[0;32m--> 108\u001B[0;31m             \u001B[0moverwrite\u001B[0m\u001B[0;34m=\u001B[0m\u001B[0moverwrite\u001B[0m\u001B[0;34m,\u001B[0m\u001B[0;34m\u001B[0m\u001B[0;34m\u001B[0m\u001B[0m\n\u001B[0m\u001B[1;32m    109\u001B[0m         )\n\u001B[1;32m    110\u001B[0m \u001B[0;34m\u001B[0m\u001B[0m\n",
      "\u001B[0;32m/usr/local/lib/python3.7/dist-packages/keras_tuner/engine/base_tuner.py\u001B[0m in \u001B[0;36m__init__\u001B[0;34m(self, oracle, hypermodel, directory, project_name, logger, overwrite)\u001B[0m\n\u001B[1;32m    100\u001B[0m         \u001B[0mself\u001B[0m\u001B[0;34m.\u001B[0m\u001B[0m_display\u001B[0m \u001B[0;34m=\u001B[0m \u001B[0mtuner_utils\u001B[0m\u001B[0;34m.\u001B[0m\u001B[0mDisplay\u001B[0m\u001B[0;34m(\u001B[0m\u001B[0moracle\u001B[0m\u001B[0;34m=\u001B[0m\u001B[0mself\u001B[0m\u001B[0;34m.\u001B[0m\u001B[0moracle\u001B[0m\u001B[0;34m)\u001B[0m\u001B[0;34m\u001B[0m\u001B[0;34m\u001B[0m\u001B[0m\n\u001B[1;32m    101\u001B[0m \u001B[0;34m\u001B[0m\u001B[0m\n\u001B[0;32m--> 102\u001B[0;31m         \u001B[0mself\u001B[0m\u001B[0;34m.\u001B[0m\u001B[0m_populate_initial_space\u001B[0m\u001B[0;34m(\u001B[0m\u001B[0;34m)\u001B[0m\u001B[0;34m\u001B[0m\u001B[0;34m\u001B[0m\u001B[0m\n\u001B[0m\u001B[1;32m    103\u001B[0m \u001B[0;34m\u001B[0m\u001B[0m\n\u001B[1;32m    104\u001B[0m         \u001B[0;32mif\u001B[0m \u001B[0;32mnot\u001B[0m \u001B[0moverwrite\u001B[0m \u001B[0;32mand\u001B[0m \u001B[0mtf\u001B[0m\u001B[0;34m.\u001B[0m\u001B[0mio\u001B[0m\u001B[0;34m.\u001B[0m\u001B[0mgfile\u001B[0m\u001B[0;34m.\u001B[0m\u001B[0mexists\u001B[0m\u001B[0;34m(\u001B[0m\u001B[0mself\u001B[0m\u001B[0;34m.\u001B[0m\u001B[0m_get_tuner_fname\u001B[0m\u001B[0;34m(\u001B[0m\u001B[0;34m)\u001B[0m\u001B[0;34m)\u001B[0m\u001B[0;34m:\u001B[0m\u001B[0;34m\u001B[0m\u001B[0;34m\u001B[0m\u001B[0m\n",
      "\u001B[0;32m/usr/local/lib/python3.7/dist-packages/keras_tuner/engine/base_tuner.py\u001B[0m in \u001B[0;36m_populate_initial_space\u001B[0;34m(self)\u001B[0m\n\u001B[1;32m    116\u001B[0m         \"\"\"\n\u001B[1;32m    117\u001B[0m         \u001B[0mhp\u001B[0m \u001B[0;34m=\u001B[0m \u001B[0mself\u001B[0m\u001B[0;34m.\u001B[0m\u001B[0moracle\u001B[0m\u001B[0;34m.\u001B[0m\u001B[0mget_space\u001B[0m\u001B[0;34m(\u001B[0m\u001B[0;34m)\u001B[0m\u001B[0;34m\u001B[0m\u001B[0;34m\u001B[0m\u001B[0m\n\u001B[0;32m--> 118\u001B[0;31m         \u001B[0mself\u001B[0m\u001B[0;34m.\u001B[0m\u001B[0mhypermodel\u001B[0m\u001B[0;34m.\u001B[0m\u001B[0mbuild\u001B[0m\u001B[0;34m(\u001B[0m\u001B[0mhp\u001B[0m\u001B[0;34m)\u001B[0m\u001B[0;34m\u001B[0m\u001B[0;34m\u001B[0m\u001B[0m\n\u001B[0m\u001B[1;32m    119\u001B[0m         \u001B[0mself\u001B[0m\u001B[0;34m.\u001B[0m\u001B[0moracle\u001B[0m\u001B[0;34m.\u001B[0m\u001B[0mupdate_space\u001B[0m\u001B[0;34m(\u001B[0m\u001B[0mhp\u001B[0m\u001B[0;34m)\u001B[0m\u001B[0;34m\u001B[0m\u001B[0;34m\u001B[0m\u001B[0m\n\u001B[1;32m    120\u001B[0m \u001B[0;34m\u001B[0m\u001B[0m\n",
      "\u001B[0;32m/usr/local/lib/python3.7/dist-packages/keras_tuner/engine/hypermodel.py\u001B[0m in \u001B[0;36m_build_wrapper\u001B[0;34m(self, hp, *args, **kwargs)\u001B[0m\n\u001B[1;32m     82\u001B[0m             \u001B[0;31m# to the search space.\u001B[0m\u001B[0;34m\u001B[0m\u001B[0;34m\u001B[0m\u001B[0;34m\u001B[0m\u001B[0m\n\u001B[1;32m     83\u001B[0m             \u001B[0mhp\u001B[0m \u001B[0;34m=\u001B[0m \u001B[0mhp\u001B[0m\u001B[0;34m.\u001B[0m\u001B[0mcopy\u001B[0m\u001B[0;34m(\u001B[0m\u001B[0;34m)\u001B[0m\u001B[0;34m\u001B[0m\u001B[0;34m\u001B[0m\u001B[0m\n\u001B[0;32m---> 84\u001B[0;31m         \u001B[0;32mreturn\u001B[0m \u001B[0mself\u001B[0m\u001B[0;34m.\u001B[0m\u001B[0m_build\u001B[0m\u001B[0;34m(\u001B[0m\u001B[0mhp\u001B[0m\u001B[0;34m,\u001B[0m \u001B[0;34m*\u001B[0m\u001B[0margs\u001B[0m\u001B[0;34m,\u001B[0m \u001B[0;34m**\u001B[0m\u001B[0mkwargs\u001B[0m\u001B[0;34m)\u001B[0m\u001B[0;34m\u001B[0m\u001B[0;34m\u001B[0m\u001B[0m\n\u001B[0m\u001B[1;32m     85\u001B[0m \u001B[0;34m\u001B[0m\u001B[0m\n\u001B[1;32m     86\u001B[0m \u001B[0;34m\u001B[0m\u001B[0m\n",
      "\u001B[0;32m/usr/local/lib/python3.7/dist-packages/keras_tuner/engine/hypermodel.py\u001B[0m in \u001B[0;36mbuild\u001B[0;34m(self, hp)\u001B[0m\n\u001B[1;32m    133\u001B[0m \u001B[0;34m\u001B[0m\u001B[0m\n\u001B[1;32m    134\u001B[0m                 \u001B[0;32mif\u001B[0m \u001B[0mi\u001B[0m \u001B[0;34m==\u001B[0m \u001B[0mself\u001B[0m\u001B[0;34m.\u001B[0m\u001B[0m_max_fail_streak\u001B[0m\u001B[0;34m:\u001B[0m\u001B[0;34m\u001B[0m\u001B[0;34m\u001B[0m\u001B[0m\n\u001B[0;32m--> 135\u001B[0;31m                     \u001B[0;32mraise\u001B[0m \u001B[0mRuntimeError\u001B[0m\u001B[0;34m(\u001B[0m\u001B[0;34m\"Too many failed attempts to build model.\"\u001B[0m\u001B[0;34m)\u001B[0m\u001B[0;34m\u001B[0m\u001B[0;34m\u001B[0m\u001B[0m\n\u001B[0m\u001B[1;32m    136\u001B[0m                 \u001B[0;32mcontinue\u001B[0m\u001B[0;34m\u001B[0m\u001B[0;34m\u001B[0m\u001B[0m\n\u001B[1;32m    137\u001B[0m \u001B[0;34m\u001B[0m\u001B[0m\n",
      "\u001B[0;31mRuntimeError\u001B[0m: Too many failed attempts to build model."
     ]
    }
   ]
  },
  {
   "cell_type": "markdown",
   "metadata": {
    "id": "z0qZLBzdx8Ty"
   },
   "source": [
    "# Clustering"
   ]
  },
  {
   "cell_type": "code",
   "metadata": {
    "id": "H074-Kp3oxdx"
   },
   "source": [
    "pred = autoencoder.predict(transformed_features)\n",
    "Knn_model = NearestNeighbors(n_neighbors=10)\n",
    "Knn_model.fit(pred)"
   ],
   "execution_count": 83,
   "outputs": []
  },
  {
   "cell_type": "code",
   "metadata": {
    "id": "x6Pq5GQCqRE2"
   },
   "source": [
    "pred_song = autoencoder.predict(transformed_features[15373].reshape(1,-1))\n",
    "pred_song.shape"
   ],
   "execution_count": 89,
   "outputs": []
  },
  {
   "cell_type": "code",
   "metadata": {
    "id": "5tRwgcPOx5P5",
    "outputId": "3d6abc75-a975-4fa2-acd8-e417643f334e",
    "colab": {
     "base_uri": "https://localhost:8080/"
    }
   },
   "source": [
    "neighbors"
   ],
   "execution_count": 91,
   "outputs": [
    {
     "output_type": "execute_result",
     "data": {
      "text/plain": [
       "array([39000, 57657, 75595, 57791, 57616, 20375, 39113,  1305, 38976])"
      ]
     },
     "metadata": {
      "tags": []
     },
     "execution_count": 91
    }
   ]
  },
  {
   "cell_type": "code",
   "metadata": {
    "id": "4Pg04wu7yg9B",
    "outputId": "916616f7-b22a-4f59-f607-da580e76cc6e",
    "colab": {
     "base_uri": "https://localhost:8080/"
    }
   },
   "source": [
    "transformed_features[0].shape"
   ],
   "execution_count": 92,
   "outputs": [
    {
     "output_type": "execute_result",
     "data": {
      "text/plain": [
       "(15,)"
      ]
     },
     "metadata": {
      "tags": []
     },
     "execution_count": 92
    }
   ]
  },
  {
   "cell_type": "code",
   "metadata": {
    "id": "6OnlbK94yi2K"
   },
   "source": [
    "neighbors_auto = Knn_model.kneighbors(pred_song.reshape(1,-1), return_distance=False)[0][1:]\n",
    "neighbors_auto"
   ],
   "execution_count": 93,
   "outputs": []
  },
  {
   "cell_type": "code",
   "metadata": {
    "id": "VkgUarKXysmm",
    "outputId": "9d23270e-8229-4888-c478-8b129a09eb3e",
    "colab": {
     "base_uri": "https://localhost:8080/"
    }
   },
   "source": [
    "for n in neighbors_auto:\n",
    "  print(df_id[n])"
   ],
   "execution_count": 95,
   "outputs": [
    {
     "output_type": "stream",
     "text": [
      "6VQm5LHlP9nIsEYOcGB7V1\n",
      "2huEOPsK2M0GbgfoiTqEdy\n",
      "2GtgLDMkFr4QL6ZU8uretH\n",
      "0UjtkXe54YuY5SMwXYjkvq\n",
      "5AMrnF761nziCWUfjBgRUI\n",
      "4Qh45lpxEv6NMp2GwBEIO6\n",
      "4ZCaO5I6XdIHb0X2UwNDtZ\n",
      "0q90594hk25yo0xZmBTqCd\n",
      "7JAg3hNqZVTE4vCVPl6cFu\n"
     ],
     "name": "stdout"
    }
   ]
  },
  {
   "cell_type": "markdown",
   "metadata": {
    "id": "g-mDt2vIyyq9"
   },
   "source": [
    "# Save weights"
   ]
  },
  {
   "cell_type": "code",
   "metadata": {
    "id": "2yTl7q70ywon"
   },
   "source": [
    "autoencoder.save_weights(\"modelstacked2.h5\")\n",
    "\n",
    "joblib.dump(Knn_model, \n",
    "            'autoencoded_knn.joblib.gz',\n",
    "            compress=('gzip', 3))"
   ],
   "execution_count": 96,
   "outputs": []
  },
  {
   "cell_type": "code",
   "metadata": {
    "id": "SJaZot2tzIqA"
   },
   "source": [
    "model1 = joblib.load('autoencoded_knn.joblib.gz')"
   ],
   "execution_count": 99,
   "outputs": []
  },
  {
   "cell_type": "code",
   "metadata": {
    "id": "cVbO0JACz0Th",
    "outputId": "d7d09ca8-c6e6-4815-80e1-6e93f2f9bda8",
    "colab": {
     "base_uri": "https://localhost:8080/"
    }
   },
   "source": [
    "autoencoder.history"
   ],
   "execution_count": 102,
   "outputs": [
    {
     "output_type": "execute_result",
     "data": {
      "text/plain": [
       "<tensorflow.python.keras.callbacks.History at 0x7f133a1316d0>"
      ]
     },
     "metadata": {
      "tags": []
     },
     "execution_count": 102
    }
   ]
  },
  {
   "cell_type": "code",
   "metadata": {
    "id": "d2Mef833z4gC"
   },
   "source": [
    "uprising_pred = autoencoder.predict(transformed_features[15373].reshape(1,-1))\n",
    "\n",
    "uprising_autoknn_pred = Knn_model.kneighbors(uprising_pred.reshape(1,-1),\n",
    "                                             return_distance=False)[0][1:]"
   ],
   "execution_count": 103,
   "outputs": []
  },
  {
   "cell_type": "code",
   "metadata": {
    "id": "j3TS3Hxb0EAG",
    "outputId": "05c773e3-5ead-4439-d990-de9d96175a7a",
    "colab": {
     "base_uri": "https://localhost:8080/"
    }
   },
   "source": [
    "uprising_autoknn_pred"
   ],
   "execution_count": 107,
   "outputs": [
    {
     "output_type": "execute_result",
     "data": {
      "text/plain": [
       "array([166176, 104375,  70653,  34255,  15373, 166163,  70758,  34207,\n",
       "        87830])"
      ]
     },
     "metadata": {
      "tags": []
     },
     "execution_count": 107
    }
   ]
  },
  {
   "cell_type": "code",
   "metadata": {
    "id": "1j2c5Ccr0HLI",
    "outputId": "523c3b7f-7c4e-4bf7-9a0e-865aa953f0ce",
    "colab": {
     "base_uri": "https://localhost:8080/"
    }
   },
   "source": [
    "for n in uprising_autoknn_pred:\n",
    "  print(df_id[n])"
   ],
   "execution_count": 108,
   "outputs": [
    {
     "output_type": "stream",
     "text": [
      "6VQm5LHlP9nIsEYOcGB7V1\n",
      "2huEOPsK2M0GbgfoiTqEdy\n",
      "2GtgLDMkFr4QL6ZU8uretH\n",
      "0UjtkXe54YuY5SMwXYjkvq\n",
      "5AMrnF761nziCWUfjBgRUI\n",
      "4Qh45lpxEv6NMp2GwBEIO6\n",
      "4ZCaO5I6XdIHb0X2UwNDtZ\n",
      "0q90594hk25yo0xZmBTqCd\n",
      "7JAg3hNqZVTE4vCVPl6cFu\n"
     ],
     "name": "stdout"
    }
   ]
  },
  {
   "cell_type": "code",
   "metadata": {
    "id": "F4tiyjD20NVL",
    "outputId": "7aceabbf-04c1-448e-a70e-84c8244f72c8",
    "colab": {
     "base_uri": "https://localhost:8080/"
    }
   },
   "source": [
    "returned_songs_uprising_auto = [df.iloc[n] for n in uprising_autoknn_pred]\n",
    "\n",
    "for song in returned_songs_uprising_auto:\n",
    "  print(song[8], song[14], song[3])"
   ],
   "execution_count": 109,
   "outputs": [
    {
     "output_type": "stream",
     "text": [
      "6VQm5LHlP9nIsEYOcGB7V1 Never There ['Cake']\n",
      "2huEOPsK2M0GbgfoiTqEdy Last Caress / Green Hell ['Metallica']\n",
      "2GtgLDMkFr4QL6ZU8uretH All About U ['2Pac', 'Snoop Dogg', 'Nate Dogg', 'Dru Down']\n",
      "0UjtkXe54YuY5SMwXYjkvq Nunca Te Olvidaré ['Enrique Iglesias']\n",
      "5AMrnF761nziCWUfjBgRUI Waltz #2 (XO) ['Elliott Smith']\n",
      "4Qh45lpxEv6NMp2GwBEIO6 Freakin' ['T-Dre', 'Delux', 'Cali Life Style']\n",
      "4ZCaO5I6XdIHb0X2UwNDtZ Kissing a Fool ['George Michael']\n",
      "0q90594hk25yo0xZmBTqCd Don't Let the Sun Go Down on Me ['George Michael', 'Elton John']\n",
      "7JAg3hNqZVTE4vCVPl6cFu Jump Right In ['The Urge']\n"
     ],
     "name": "stdout"
    }
   ]
  }
 ]
}